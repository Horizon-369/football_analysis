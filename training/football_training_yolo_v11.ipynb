{
 "cells": [
  {
   "cell_type": "code",
   "execution_count": 1,
   "metadata": {},
   "outputs": [
    {
     "name": "stdout",
     "output_type": "stream",
     "text": [
      "Collecting roboflow\n",
      "  Downloading roboflow-1.1.54-py3-none-any.whl.metadata (9.7 kB)\n",
      "Requirement already satisfied: certifi in d:\\programming\\machinelearning\\ml project\\football_analysis\\cv_venv\\lib\\site-packages (from roboflow) (2025.1.31)\n",
      "Collecting idna==3.7 (from roboflow)\n",
      "  Downloading idna-3.7-py3-none-any.whl.metadata (9.9 kB)\n",
      "Requirement already satisfied: cycler in d:\\programming\\machinelearning\\ml project\\football_analysis\\cv_venv\\lib\\site-packages (from roboflow) (0.12.1)\n",
      "Requirement already satisfied: kiwisolver>=1.3.1 in d:\\programming\\machinelearning\\ml project\\football_analysis\\cv_venv\\lib\\site-packages (from roboflow) (1.4.7)\n",
      "Requirement already satisfied: matplotlib in d:\\programming\\machinelearning\\ml project\\football_analysis\\cv_venv\\lib\\site-packages (from roboflow) (3.9.4)\n",
      "Requirement already satisfied: numpy>=1.18.5 in d:\\programming\\machinelearning\\ml project\\football_analysis\\cv_venv\\lib\\site-packages (from roboflow) (2.0.2)\n",
      "Collecting opencv-python-headless==4.10.0.84 (from roboflow)\n",
      "  Downloading opencv_python_headless-4.10.0.84-cp37-abi3-win_amd64.whl.metadata (20 kB)\n",
      "Requirement already satisfied: Pillow>=7.1.2 in d:\\programming\\machinelearning\\ml project\\football_analysis\\cv_venv\\lib\\site-packages (from roboflow) (11.1.0)\n",
      "Requirement already satisfied: python-dateutil in d:\\programming\\machinelearning\\ml project\\football_analysis\\cv_venv\\lib\\site-packages (from roboflow) (2.9.0.post0)\n",
      "Collecting python-dotenv (from roboflow)\n",
      "  Using cached python_dotenv-1.0.1-py3-none-any.whl.metadata (23 kB)\n",
      "Requirement already satisfied: requests in d:\\programming\\machinelearning\\ml project\\football_analysis\\cv_venv\\lib\\site-packages (from roboflow) (2.32.3)\n",
      "Requirement already satisfied: six in d:\\programming\\machinelearning\\ml project\\football_analysis\\cv_venv\\lib\\site-packages (from roboflow) (1.17.0)\n",
      "Requirement already satisfied: urllib3>=1.26.6 in d:\\programming\\machinelearning\\ml project\\football_analysis\\cv_venv\\lib\\site-packages (from roboflow) (2.3.0)\n",
      "Requirement already satisfied: tqdm>=4.41.0 in d:\\programming\\machinelearning\\ml project\\football_analysis\\cv_venv\\lib\\site-packages (from roboflow) (4.67.1)\n",
      "Requirement already satisfied: PyYAML>=5.3.1 in d:\\programming\\machinelearning\\ml project\\football_analysis\\cv_venv\\lib\\site-packages (from roboflow) (6.0.2)\n",
      "Collecting requests-toolbelt (from roboflow)\n",
      "  Using cached requests_toolbelt-1.0.0-py2.py3-none-any.whl.metadata (14 kB)\n",
      "Collecting filetype (from roboflow)\n",
      "  Downloading filetype-1.2.0-py2.py3-none-any.whl.metadata (6.5 kB)\n",
      "Requirement already satisfied: colorama in d:\\programming\\machinelearning\\ml project\\football_analysis\\cv_venv\\lib\\site-packages (from tqdm>=4.41.0->roboflow) (0.4.6)\n",
      "Requirement already satisfied: contourpy>=1.0.1 in d:\\programming\\machinelearning\\ml project\\football_analysis\\cv_venv\\lib\\site-packages (from matplotlib->roboflow) (1.3.0)\n",
      "Requirement already satisfied: fonttools>=4.22.0 in d:\\programming\\machinelearning\\ml project\\football_analysis\\cv_venv\\lib\\site-packages (from matplotlib->roboflow) (4.56.0)\n",
      "Requirement already satisfied: packaging>=20.0 in d:\\programming\\machinelearning\\ml project\\football_analysis\\cv_venv\\lib\\site-packages (from matplotlib->roboflow) (24.2)\n",
      "Requirement already satisfied: pyparsing>=2.3.1 in d:\\programming\\machinelearning\\ml project\\football_analysis\\cv_venv\\lib\\site-packages (from matplotlib->roboflow) (3.2.1)\n",
      "Requirement already satisfied: importlib-resources>=3.2.0 in d:\\programming\\machinelearning\\ml project\\football_analysis\\cv_venv\\lib\\site-packages (from matplotlib->roboflow) (6.5.2)\n",
      "Requirement already satisfied: charset-normalizer<4,>=2 in d:\\programming\\machinelearning\\ml project\\football_analysis\\cv_venv\\lib\\site-packages (from requests->roboflow) (3.4.1)\n",
      "Requirement already satisfied: zipp>=3.1.0 in d:\\programming\\machinelearning\\ml project\\football_analysis\\cv_venv\\lib\\site-packages (from importlib-resources>=3.2.0->matplotlib->roboflow) (3.21.0)\n",
      "Downloading roboflow-1.1.54-py3-none-any.whl (83 kB)\n",
      "Downloading idna-3.7-py3-none-any.whl (66 kB)\n",
      "Downloading opencv_python_headless-4.10.0.84-cp37-abi3-win_amd64.whl (38.8 MB)\n",
      "   ---------------------------------------- 0.0/38.8 MB ? eta -:--:--\n",
      "    --------------------------------------- 0.5/38.8 MB 2.4 MB/s eta 0:00:16\n",
      "    --------------------------------------- 0.8/38.8 MB 1.5 MB/s eta 0:00:25\n",
      "   - -------------------------------------- 1.0/38.8 MB 1.7 MB/s eta 0:00:22\n",
      "   - -------------------------------------- 1.3/38.8 MB 1.7 MB/s eta 0:00:23\n",
      "   - -------------------------------------- 1.6/38.8 MB 1.6 MB/s eta 0:00:24\n",
      "   - -------------------------------------- 1.8/38.8 MB 1.5 MB/s eta 0:00:24\n",
      "   -- ------------------------------------- 2.1/38.8 MB 1.5 MB/s eta 0:00:25\n",
      "   -- ------------------------------------- 2.4/38.8 MB 1.5 MB/s eta 0:00:25\n",
      "   -- ------------------------------------- 2.6/38.8 MB 1.3 MB/s eta 0:00:27\n",
      "   -- ------------------------------------- 2.9/38.8 MB 1.3 MB/s eta 0:00:28\n",
      "   --- ------------------------------------ 3.1/38.8 MB 1.3 MB/s eta 0:00:27\n",
      "   --- ------------------------------------ 3.4/38.8 MB 1.3 MB/s eta 0:00:28\n",
      "   --- ------------------------------------ 3.7/38.8 MB 1.3 MB/s eta 0:00:27\n",
      "   ---- ----------------------------------- 3.9/38.8 MB 1.3 MB/s eta 0:00:27\n",
      "   ---- ----------------------------------- 4.2/38.8 MB 1.3 MB/s eta 0:00:26\n",
      "   ---- ----------------------------------- 4.7/38.8 MB 1.4 MB/s eta 0:00:26\n",
      "   ----- ---------------------------------- 5.0/38.8 MB 1.4 MB/s eta 0:00:25\n",
      "   ----- ---------------------------------- 5.5/38.8 MB 1.4 MB/s eta 0:00:24\n",
      "   ----- ---------------------------------- 5.8/38.8 MB 1.4 MB/s eta 0:00:24\n",
      "   ------ --------------------------------- 6.0/38.8 MB 1.4 MB/s eta 0:00:23\n",
      "   ------ --------------------------------- 6.6/38.8 MB 1.5 MB/s eta 0:00:22\n",
      "   ------- -------------------------------- 6.8/38.8 MB 1.5 MB/s eta 0:00:22\n",
      "   ------- -------------------------------- 7.1/38.8 MB 1.5 MB/s eta 0:00:22\n",
      "   ------- -------------------------------- 7.3/38.8 MB 1.4 MB/s eta 0:00:22\n",
      "   ------- -------------------------------- 7.6/38.8 MB 1.4 MB/s eta 0:00:22\n",
      "   -------- ------------------------------- 7.9/38.8 MB 1.4 MB/s eta 0:00:23\n",
      "   -------- ------------------------------- 7.9/38.8 MB 1.4 MB/s eta 0:00:23\n",
      "   -------- ------------------------------- 8.1/38.8 MB 1.4 MB/s eta 0:00:22\n",
      "   -------- ------------------------------- 8.1/38.8 MB 1.4 MB/s eta 0:00:22\n",
      "   -------- ------------------------------- 8.4/38.8 MB 1.3 MB/s eta 0:00:23\n",
      "   -------- ------------------------------- 8.7/38.8 MB 1.3 MB/s eta 0:00:23\n",
      "   -------- ------------------------------- 8.7/38.8 MB 1.3 MB/s eta 0:00:23\n",
      "   --------- ------------------------------ 8.9/38.8 MB 1.3 MB/s eta 0:00:24\n",
      "   --------- ------------------------------ 8.9/38.8 MB 1.3 MB/s eta 0:00:24\n",
      "   --------- ------------------------------ 9.2/38.8 MB 1.2 MB/s eta 0:00:25\n",
      "   --------- ------------------------------ 9.2/38.8 MB 1.2 MB/s eta 0:00:25\n",
      "   --------- ------------------------------ 9.4/38.8 MB 1.2 MB/s eta 0:00:25\n",
      "   ---------- ----------------------------- 9.7/38.8 MB 1.2 MB/s eta 0:00:25\n",
      "   ---------- ----------------------------- 10.0/38.8 MB 1.2 MB/s eta 0:00:24\n",
      "   ---------- ----------------------------- 10.0/38.8 MB 1.2 MB/s eta 0:00:24\n",
      "   ---------- ----------------------------- 10.2/38.8 MB 1.2 MB/s eta 0:00:25\n",
      "   ---------- ----------------------------- 10.5/38.8 MB 1.2 MB/s eta 0:00:25\n",
      "   ---------- ----------------------------- 10.5/38.8 MB 1.2 MB/s eta 0:00:25\n",
      "   ----------- ---------------------------- 10.7/38.8 MB 1.2 MB/s eta 0:00:25\n",
      "   ----------- ---------------------------- 11.0/38.8 MB 1.2 MB/s eta 0:00:24\n",
      "   ----------- ---------------------------- 11.3/38.8 MB 1.2 MB/s eta 0:00:24\n",
      "   ----------- ---------------------------- 11.5/38.8 MB 1.2 MB/s eta 0:00:24\n",
      "   ------------ --------------------------- 11.8/38.8 MB 1.2 MB/s eta 0:00:23\n",
      "   ------------ --------------------------- 12.1/38.8 MB 1.2 MB/s eta 0:00:23\n",
      "   ------------ --------------------------- 12.3/38.8 MB 1.2 MB/s eta 0:00:23\n",
      "   ------------ --------------------------- 12.6/38.8 MB 1.2 MB/s eta 0:00:23\n",
      "   ------------- -------------------------- 12.8/38.8 MB 1.2 MB/s eta 0:00:23\n",
      "   ------------- -------------------------- 12.8/38.8 MB 1.2 MB/s eta 0:00:23\n",
      "   ------------- -------------------------- 13.1/38.8 MB 1.2 MB/s eta 0:00:22\n",
      "   -------------- ------------------------- 13.6/38.8 MB 1.2 MB/s eta 0:00:22\n",
      "   -------------- ------------------------- 13.6/38.8 MB 1.2 MB/s eta 0:00:22\n",
      "   -------------- ------------------------- 13.9/38.8 MB 1.2 MB/s eta 0:00:22\n",
      "   -------------- ------------------------- 14.2/38.8 MB 1.2 MB/s eta 0:00:22\n",
      "   -------------- ------------------------- 14.4/38.8 MB 1.2 MB/s eta 0:00:21\n",
      "   --------------- ------------------------ 14.7/38.8 MB 1.2 MB/s eta 0:00:21\n",
      "   --------------- ------------------------ 14.9/38.8 MB 1.2 MB/s eta 0:00:21\n",
      "   --------------- ------------------------ 15.2/38.8 MB 1.2 MB/s eta 0:00:21\n",
      "   --------------- ------------------------ 15.5/38.8 MB 1.2 MB/s eta 0:00:20\n",
      "   ---------------- ----------------------- 15.7/38.8 MB 1.2 MB/s eta 0:00:20\n",
      "   ---------------- ----------------------- 16.0/38.8 MB 1.2 MB/s eta 0:00:20\n",
      "   ---------------- ----------------------- 16.3/38.8 MB 1.2 MB/s eta 0:00:20\n",
      "   ----------------- ---------------------- 16.8/38.8 MB 1.2 MB/s eta 0:00:19\n",
      "   ----------------- ---------------------- 17.0/38.8 MB 1.2 MB/s eta 0:00:19\n",
      "   ----------------- ---------------------- 17.3/38.8 MB 1.2 MB/s eta 0:00:18\n",
      "   ------------------ --------------------- 17.8/38.8 MB 1.2 MB/s eta 0:00:18\n",
      "   ------------------ --------------------- 18.1/38.8 MB 1.2 MB/s eta 0:00:17\n",
      "   ------------------ --------------------- 18.4/38.8 MB 1.2 MB/s eta 0:00:17\n",
      "   ------------------ --------------------- 18.4/38.8 MB 1.2 MB/s eta 0:00:17\n",
      "   ------------------- -------------------- 18.6/38.8 MB 1.2 MB/s eta 0:00:17\n",
      "   ------------------- -------------------- 18.6/38.8 MB 1.2 MB/s eta 0:00:17\n",
      "   ------------------- -------------------- 18.9/38.8 MB 1.2 MB/s eta 0:00:17\n",
      "   ------------------- -------------------- 19.1/38.8 MB 1.2 MB/s eta 0:00:17\n",
      "   ------------------- -------------------- 19.1/38.8 MB 1.2 MB/s eta 0:00:17\n",
      "   -------------------- ------------------- 19.4/38.8 MB 1.2 MB/s eta 0:00:17\n",
      "   -------------------- ------------------- 19.4/38.8 MB 1.2 MB/s eta 0:00:17\n",
      "   -------------------- ------------------- 19.7/38.8 MB 1.2 MB/s eta 0:00:17\n",
      "   -------------------- ------------------- 19.9/38.8 MB 1.2 MB/s eta 0:00:17\n",
      "   -------------------- ------------------- 19.9/38.8 MB 1.2 MB/s eta 0:00:17\n",
      "   -------------------- ------------------- 20.2/38.8 MB 1.2 MB/s eta 0:00:17\n",
      "   --------------------- ------------------ 20.4/38.8 MB 1.2 MB/s eta 0:00:16\n",
      "   --------------------- ------------------ 20.4/38.8 MB 1.2 MB/s eta 0:00:16\n",
      "   --------------------- ------------------ 20.7/38.8 MB 1.1 MB/s eta 0:00:16\n",
      "   --------------------- ------------------ 20.7/38.8 MB 1.1 MB/s eta 0:00:16\n",
      "   --------------------- ------------------ 21.0/38.8 MB 1.1 MB/s eta 0:00:16\n",
      "   --------------------- ------------------ 21.0/38.8 MB 1.1 MB/s eta 0:00:16\n",
      "   --------------------- ------------------ 21.2/38.8 MB 1.1 MB/s eta 0:00:16\n",
      "   --------------------- ------------------ 21.2/38.8 MB 1.1 MB/s eta 0:00:16\n",
      "   --------------------- ------------------ 21.2/38.8 MB 1.1 MB/s eta 0:00:16\n",
      "   ---------------------- ----------------- 21.5/38.8 MB 1.1 MB/s eta 0:00:16\n",
      "   ---------------------- ----------------- 21.5/38.8 MB 1.1 MB/s eta 0:00:16\n",
      "   ---------------------- ----------------- 21.8/38.8 MB 1.1 MB/s eta 0:00:16\n",
      "   ---------------------- ----------------- 22.0/38.8 MB 1.1 MB/s eta 0:00:16\n",
      "   ---------------------- ----------------- 22.0/38.8 MB 1.1 MB/s eta 0:00:16\n",
      "   ---------------------- ----------------- 22.3/38.8 MB 1.1 MB/s eta 0:00:16\n",
      "   ----------------------- ---------------- 22.5/38.8 MB 1.1 MB/s eta 0:00:16\n",
      "   ----------------------- ---------------- 22.8/38.8 MB 1.1 MB/s eta 0:00:15\n",
      "   ----------------------- ---------------- 23.1/38.8 MB 1.1 MB/s eta 0:00:15\n",
      "   ------------------------ --------------- 23.3/38.8 MB 1.1 MB/s eta 0:00:15\n",
      "   ------------------------ --------------- 23.3/38.8 MB 1.1 MB/s eta 0:00:15\n",
      "   ------------------------ --------------- 23.6/38.8 MB 1.1 MB/s eta 0:00:15\n",
      "   ------------------------ --------------- 23.9/38.8 MB 1.1 MB/s eta 0:00:14\n",
      "   ------------------------ --------------- 23.9/38.8 MB 1.1 MB/s eta 0:00:14\n",
      "   ------------------------ --------------- 24.1/38.8 MB 1.1 MB/s eta 0:00:14\n",
      "   ------------------------- -------------- 24.4/38.8 MB 1.1 MB/s eta 0:00:14\n",
      "   ------------------------- -------------- 24.6/38.8 MB 1.1 MB/s eta 0:00:14\n",
      "   ------------------------- -------------- 24.9/38.8 MB 1.1 MB/s eta 0:00:14\n",
      "   ------------------------- -------------- 24.9/38.8 MB 1.1 MB/s eta 0:00:14\n",
      "   ------------------------- -------------- 25.2/38.8 MB 1.1 MB/s eta 0:00:13\n",
      "   ------------------------- -------------- 25.2/38.8 MB 1.1 MB/s eta 0:00:13\n",
      "   -------------------------- ------------- 25.4/38.8 MB 1.1 MB/s eta 0:00:13\n",
      "   -------------------------- ------------- 25.4/38.8 MB 1.1 MB/s eta 0:00:13\n",
      "   -------------------------- ------------- 25.7/38.8 MB 1.1 MB/s eta 0:00:13\n",
      "   -------------------------- ------------- 26.0/38.8 MB 1.1 MB/s eta 0:00:13\n",
      "   --------------------------- ------------ 26.2/38.8 MB 1.0 MB/s eta 0:00:12\n",
      "   --------------------------- ------------ 26.2/38.8 MB 1.0 MB/s eta 0:00:12\n",
      "   --------------------------- ------------ 26.5/38.8 MB 1.0 MB/s eta 0:00:12\n",
      "   --------------------------- ------------ 26.7/38.8 MB 1.0 MB/s eta 0:00:12\n",
      "   --------------------------- ------------ 27.0/38.8 MB 1.0 MB/s eta 0:00:12\n",
      "   ---------------------------- ----------- 27.3/38.8 MB 1.0 MB/s eta 0:00:11\n",
      "   ---------------------------- ----------- 27.5/38.8 MB 1.0 MB/s eta 0:00:11\n",
      "   ---------------------------- ----------- 27.8/38.8 MB 1.0 MB/s eta 0:00:11\n",
      "   ---------------------------- ----------- 28.0/38.8 MB 1.1 MB/s eta 0:00:11\n",
      "   ---------------------------- ----------- 28.0/38.8 MB 1.1 MB/s eta 0:00:11\n",
      "   ----------------------------- ---------- 28.3/38.8 MB 1.1 MB/s eta 0:00:10\n",
      "   ----------------------------- ---------- 28.6/38.8 MB 1.1 MB/s eta 0:00:10\n",
      "   ----------------------------- ---------- 28.8/38.8 MB 1.0 MB/s eta 0:00:10\n",
      "   ----------------------------- ---------- 28.8/38.8 MB 1.0 MB/s eta 0:00:10\n",
      "   ------------------------------ --------- 29.1/38.8 MB 1.0 MB/s eta 0:00:10\n",
      "   ------------------------------ --------- 29.1/38.8 MB 1.0 MB/s eta 0:00:10\n",
      "   ------------------------------ --------- 29.4/38.8 MB 1.0 MB/s eta 0:00:10\n",
      "   ------------------------------ --------- 29.4/38.8 MB 1.0 MB/s eta 0:00:10\n",
      "   ------------------------------ --------- 29.6/38.8 MB 1.0 MB/s eta 0:00:09\n",
      "   ------------------------------ --------- 29.6/38.8 MB 1.0 MB/s eta 0:00:09\n",
      "   ------------------------------ --------- 29.9/38.8 MB 1.0 MB/s eta 0:00:09\n",
      "   ------------------------------- -------- 30.1/38.8 MB 1.0 MB/s eta 0:00:09\n",
      "   ------------------------------- -------- 30.1/38.8 MB 1.0 MB/s eta 0:00:09\n",
      "   ------------------------------- -------- 30.4/38.8 MB 1.0 MB/s eta 0:00:09\n",
      "   ------------------------------- -------- 30.4/38.8 MB 1.0 MB/s eta 0:00:09\n",
      "   ------------------------------- -------- 30.7/38.8 MB 1.0 MB/s eta 0:00:08\n",
      "   ------------------------------- -------- 30.7/38.8 MB 1.0 MB/s eta 0:00:08\n",
      "   ------------------------------- -------- 30.9/38.8 MB 998.7 kB/s eta 0:00:08\n",
      "   ------------------------------- -------- 30.9/38.8 MB 998.7 kB/s eta 0:00:08\n",
      "   -------------------------------- ------- 31.2/38.8 MB 988.9 kB/s eta 0:00:08\n",
      "   -------------------------------- ------- 31.2/38.8 MB 988.9 kB/s eta 0:00:08\n",
      "   -------------------------------- ------- 31.5/38.8 MB 979.7 kB/s eta 0:00:08\n",
      "   -------------------------------- ------- 31.5/38.8 MB 979.7 kB/s eta 0:00:08\n",
      "   -------------------------------- ------- 31.5/38.8 MB 979.7 kB/s eta 0:00:08\n",
      "   -------------------------------- ------- 31.7/38.8 MB 970.5 kB/s eta 0:00:08\n",
      "   -------------------------------- ------- 31.7/38.8 MB 970.5 kB/s eta 0:00:08\n",
      "   --------------------------------- ------ 32.0/38.8 MB 959.9 kB/s eta 0:00:08\n",
      "   --------------------------------- ------ 32.0/38.8 MB 959.9 kB/s eta 0:00:08\n",
      "   --------------------------------- ------ 32.2/38.8 MB 949.2 kB/s eta 0:00:07\n",
      "   --------------------------------- ------ 32.2/38.8 MB 949.2 kB/s eta 0:00:07\n",
      "   --------------------------------- ------ 32.5/38.8 MB 936.9 kB/s eta 0:00:07\n",
      "   --------------------------------- ------ 32.5/38.8 MB 936.9 kB/s eta 0:00:07\n",
      "   --------------------------------- ------ 32.8/38.8 MB 929.6 kB/s eta 0:00:07\n",
      "   ---------------------------------- ----- 33.0/38.8 MB 920.8 kB/s eta 0:00:07\n",
      "   ---------------------------------- ----- 33.3/38.8 MB 918.9 kB/s eta 0:00:06\n",
      "   ---------------------------------- ----- 33.6/38.8 MB 912.6 kB/s eta 0:00:06\n",
      "   ---------------------------------- ----- 33.8/38.8 MB 901.9 kB/s eta 0:00:06\n",
      "   ---------------------------------- ----- 33.8/38.8 MB 901.9 kB/s eta 0:00:06\n",
      "   ----------------------------------- ---- 34.1/38.8 MB 899.3 kB/s eta 0:00:06\n",
      "   ----------------------------------- ---- 34.3/38.8 MB 896.9 kB/s eta 0:00:05\n",
      "   ----------------------------------- ---- 34.6/38.8 MB 900.5 kB/s eta 0:00:05\n",
      "   ----------------------------------- ---- 34.6/38.8 MB 900.5 kB/s eta 0:00:05\n",
      "   ------------------------------------ --- 35.1/38.8 MB 901.4 kB/s eta 0:00:05\n",
      "   ------------------------------------ --- 35.1/38.8 MB 901.4 kB/s eta 0:00:05\n",
      "   ------------------------------------ --- 35.4/38.8 MB 907.6 kB/s eta 0:00:04\n",
      "   ------------------------------------ --- 35.7/38.8 MB 909.2 kB/s eta 0:00:04\n",
      "   ------------------------------------- -- 35.9/38.8 MB 912.9 kB/s eta 0:00:04\n",
      "   ------------------------------------- -- 35.9/38.8 MB 912.9 kB/s eta 0:00:04\n",
      "   ------------------------------------- -- 36.2/38.8 MB 909.2 kB/s eta 0:00:03\n",
      "   ------------------------------------- -- 36.2/38.8 MB 909.2 kB/s eta 0:00:03\n",
      "   ------------------------------------- -- 36.4/38.8 MB 911.2 kB/s eta 0:00:03\n",
      "   ------------------------------------- -- 36.4/38.8 MB 911.2 kB/s eta 0:00:03\n",
      "   ------------------------------------- -- 36.4/38.8 MB 911.2 kB/s eta 0:00:03\n",
      "   ------------------------------------- -- 36.7/38.8 MB 898.3 kB/s eta 0:00:03\n",
      "   ------------------------------------- -- 36.7/38.8 MB 898.3 kB/s eta 0:00:03\n",
      "   ------------------------------------- -- 36.7/38.8 MB 898.3 kB/s eta 0:00:03\n",
      "   -------------------------------------- - 37.0/38.8 MB 891.7 kB/s eta 0:00:03\n",
      "   -------------------------------------- - 37.0/38.8 MB 891.7 kB/s eta 0:00:03\n",
      "   -------------------------------------- - 37.2/38.8 MB 884.4 kB/s eta 0:00:02\n",
      "   -------------------------------------- - 37.2/38.8 MB 884.4 kB/s eta 0:00:02\n",
      "   -------------------------------------- - 37.5/38.8 MB 874.7 kB/s eta 0:00:02\n",
      "   -------------------------------------- - 37.5/38.8 MB 874.7 kB/s eta 0:00:02\n",
      "   -------------------------------------- - 37.5/38.8 MB 874.7 kB/s eta 0:00:02\n",
      "   -------------------------------------- - 37.7/38.8 MB 859.5 kB/s eta 0:00:02\n",
      "   -------------------------------------- - 37.7/38.8 MB 859.5 kB/s eta 0:00:02\n",
      "   ---------------------------------------  38.0/38.8 MB 856.3 kB/s eta 0:00:01\n",
      "   ---------------------------------------  38.0/38.8 MB 856.3 kB/s eta 0:00:01\n",
      "   ---------------------------------------  38.3/38.8 MB 847.2 kB/s eta 0:00:01\n",
      "   ---------------------------------------  38.5/38.8 MB 844.6 kB/s eta 0:00:01\n",
      "   ---------------------------------------  38.5/38.8 MB 844.6 kB/s eta 0:00:01\n",
      "   ---------------------------------------- 38.8/38.8 MB 841.8 kB/s eta 0:00:00\n",
      "Downloading filetype-1.2.0-py2.py3-none-any.whl (19 kB)\n",
      "Using cached python_dotenv-1.0.1-py3-none-any.whl (19 kB)\n",
      "Using cached requests_toolbelt-1.0.0-py2.py3-none-any.whl (54 kB)\n",
      "Installing collected packages: filetype, python-dotenv, opencv-python-headless, idna, requests-toolbelt, roboflow\n",
      "  Attempting uninstall: idna\n",
      "    Found existing installation: idna 3.10\n",
      "    Uninstalling idna-3.10:\n",
      "      Successfully uninstalled idna-3.10\n",
      "Successfully installed filetype-1.2.0 idna-3.7 opencv-python-headless-4.10.0.84 python-dotenv-1.0.1 requests-toolbelt-1.0.0 roboflow-1.1.54\n",
      "Note: you may need to restart the kernel to use updated packages.\n"
     ]
    },
    {
     "name": "stderr",
     "output_type": "stream",
     "text": [
      "WARNING: Ignoring invalid distribution - (d:\\programming\\machinelearning\\ml project\\football_analysis\\cv_venv\\lib\\site-packages)\n",
      "WARNING: Ignoring invalid distribution -ip (d:\\programming\\machinelearning\\ml project\\football_analysis\\cv_venv\\lib\\site-packages)\n",
      "WARNING: Ignoring invalid distribution - (d:\\programming\\machinelearning\\ml project\\football_analysis\\cv_venv\\lib\\site-packages)\n",
      "WARNING: Ignoring invalid distribution -ip (d:\\programming\\machinelearning\\ml project\\football_analysis\\cv_venv\\lib\\site-packages)\n",
      "WARNING: Ignoring invalid distribution - (d:\\programming\\machinelearning\\ml project\\football_analysis\\cv_venv\\lib\\site-packages)\n",
      "WARNING: Ignoring invalid distribution -ip (d:\\programming\\machinelearning\\ml project\\football_analysis\\cv_venv\\lib\\site-packages)\n"
     ]
    }
   ],
   "source": [
    "%pip install roboflow"
   ]
  },
  {
   "cell_type": "markdown",
   "metadata": {},
   "source": [
    "# Get Dataset"
   ]
  },
  {
   "cell_type": "code",
   "execution_count": 2,
   "metadata": {},
   "outputs": [
    {
     "name": "stdout",
     "output_type": "stream",
     "text": [
      "loading Roboflow workspace...\n",
      "loading Roboflow project...\n"
     ]
    },
    {
     "name": "stderr",
     "output_type": "stream",
     "text": [
      "Downloading Dataset Version Zip in football-players-detection-1 to yolov11:: 100%|██████████| 147802/147802 [00:27<00:00, 5387.85it/s]"
     ]
    },
    {
     "name": "stdout",
     "output_type": "stream",
     "text": [
      "\n"
     ]
    },
    {
     "name": "stderr",
     "output_type": "stream",
     "text": [
      "\n",
      "Extracting Dataset Version Zip to football-players-detection-1 in yolov11:: 100%|██████████| 1338/1338 [00:00<00:00, 1771.51it/s]\n"
     ]
    }
   ],
   "source": [
    "from roboflow import Roboflow\n",
    "rf = Roboflow(api_key=\"hJMjJFFQY1TW7UrTGtpx\")\n",
    "project = rf.workspace(\"roboflow-jvuqo\").project(\"football-players-detection-3zvbc\")\n",
    "version = project.version(1)\n",
    "dataset = version.download(\"yolov11\")"
   ]
  },
  {
   "cell_type": "code",
   "execution_count": 3,
   "metadata": {},
   "outputs": [
    {
     "data": {
      "text/plain": [
       "'d:\\\\Programming\\\\MachineLearning\\\\ML Project\\\\Football_Analysis\\\\training\\\\football-players-detection-1'"
      ]
     },
     "execution_count": 3,
     "metadata": {},
     "output_type": "execute_result"
    }
   ],
   "source": [
    "dataset.location"
   ]
  },
  {
   "cell_type": "code",
   "execution_count": 4,
   "metadata": {},
   "outputs": [
    {
     "data": {
      "text/plain": [
       "'football-players-detection-1/football-players-detection-1/valid'"
      ]
     },
     "execution_count": 4,
     "metadata": {},
     "output_type": "execute_result"
    }
   ],
   "source": [
    "import shutil\n",
    "\n",
    "shutil.move('football-players-detection-1/train',\n",
    "            'football-players-detection-1/football-players-detection-1/train')\n",
    "\n",
    "shutil.move('football-players-detection-1/test',\n",
    "            'football-players-detection-1/football-players-detection-1/test')\n",
    "\n",
    "shutil.move('football-players-detection-1/valid',\n",
    "            'football-players-detection-1/football-players-detection-1/valid')"
   ]
  },
  {
   "cell_type": "markdown",
   "metadata": {},
   "source": [
    "# Training"
   ]
  },
  {
   "cell_type": "code",
   "execution_count": null,
   "metadata": {},
   "outputs": [],
   "source": [
    "!yolo task=detect mode=train model=yolov11x.pt data={dataset.location}/data.yaml epochs=100 imgsz=640"
   ]
  },
  {
   "cell_type": "code",
   "execution_count": null,
   "metadata": {},
   "outputs": [],
   "source": []
  },
  {
   "cell_type": "code",
   "execution_count": null,
   "metadata": {},
   "outputs": [],
   "source": []
  },
  {
   "cell_type": "code",
   "execution_count": null,
   "metadata": {},
   "outputs": [],
   "source": []
  },
  {
   "cell_type": "code",
   "execution_count": null,
   "metadata": {},
   "outputs": [],
   "source": []
  },
  {
   "cell_type": "code",
   "execution_count": null,
   "metadata": {},
   "outputs": [],
   "source": []
  },
  {
   "cell_type": "code",
   "execution_count": null,
   "metadata": {},
   "outputs": [],
   "source": []
  }
 ],
 "metadata": {
  "kernelspec": {
   "display_name": "cv_venv",
   "language": "python",
   "name": "python3"
  },
  "language_info": {
   "codemirror_mode": {
    "name": "ipython",
    "version": 3
   },
   "file_extension": ".py",
   "mimetype": "text/x-python",
   "name": "python",
   "nbconvert_exporter": "python",
   "pygments_lexer": "ipython3",
   "version": "3.9.0"
  }
 },
 "nbformat": 4,
 "nbformat_minor": 2
}
